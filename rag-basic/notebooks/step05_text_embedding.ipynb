{
 "cells": [
  {
   "cell_type": "markdown",
   "metadata": {},
   "source": [
    "# 🔡 Step 05: OpenAI Embedding으로 텍스트 벡터화\n",
    "\n",
    "이 노트북에서는 이전 단계에서 전처리한 문서들을 OpenAI의 Embedding API를 사용하여 벡터화합니다.\n",
    "\n",
    "## 📝 주요 내용\n",
    "1. OpenAI API 설정\n",
    "2. 텍스트 임베딩 함수 구현\n",
    "3. 문서 벡터화 및 저장\n",
    "4. 벡터 품질 확인"
   ]
  },
  {
   "cell_type": "markdown",
   "metadata": {},
   "source": [
    "## 1️⃣ 필요한 라이브러리 임포트\n",
    "\n",
    "텍스트 벡터화에 필요한 라이브러리들을 임포트합니다."
   ]
  },
  {
   "cell_type": "code",
   "execution_count": null,
   "metadata": {},
   "outputs": [],
   "source": [
    "import os\n",
    "import json\n",
    "import numpy as np\n",
    "import pandas as pd\n",
    "from typing import List, Dict\n",
    "from dotenv import load_dotenv\n",
    "from openai import OpenAI\n",
    "from tqdm.notebook import tqdm\n",
    "\n",
    "# .env 파일에서 환경변수를 로드합니다\n",
    "load_dotenv()\n",
    "\n",
    "# OpenAI 클라이언트를 초기화합니다\n",
    "client = OpenAI(api_key=os.getenv('OPENAI_API_KEY'))"
   ]
  },
  {
   "cell_type": "markdown",
   "metadata": {},
   "source": [
    "## 2️⃣ 이전 단계의 전처리된 문서 로드\n",
    "\n",
    "Step 04에서 저장한 전처리된 문서들을 로드합니다."
   ]
  },
  {
   "cell_type": "code",
   "execution_count": null,
   "metadata": {},
   "outputs": [],
   "source": [
    "# 전처리된 문서를 로드합니다\n",
    "with open('../data/processed/documents.json', 'r', encoding='utf-8') as f:\n",
    "    documents = json.load(f)\n",
    "\n",
    "print(f\"로드된 문서 수: {len(documents)}\")\n",
    "print(\"\\n문서 예시:\")\n",
    "print(json.dumps(documents[0], indent=2, ensure_ascii=False))"
   ]
  },
  {
   "cell_type": "markdown",
   "metadata": {},
   "source": [
    "## 3️⃣ 텍스트 임베딩 함수 구현\n",
    "\n",
    "OpenAI의 text-embedding-ada-002 모델을 사용하여 텍스트를 벡터화하는 함수를 구현합니다."
   ]
  },
  {
   "cell_type": "code",
   "execution_count": null,
   "metadata": {},
   "outputs": [],
   "source": [
    "def get_embedding(text: str) -> List[float]:\n",
    "    \"\"\"\n",
    "    OpenAI API를 사용하여 텍스트의 임베딩을 생성합니다.\n",
    "    \n",
    "    Args:\n",
    "        text (str): 임베딩할 텍스트\n",
    "        \n",
    "    Returns:\n",
    "        List[float]: 1536차원의 임베딩 벡터\n",
    "    \"\"\"\n",
    "    response = client.embeddings.create(\n",
    "        model=\"text-embedding-ada-002\",\n",
    "        input=text\n",
    "    )\n",
    "    return response.data[0].embedding\n",
    "\n",
    "def batch_get_embeddings(texts: List[str], batch_size: int = 100) -> List[List[float]]:\n",
    "    \"\"\"\n",
    "    여러 텍스트의 임베딩을 배치 처리합니다.\n",
    "    \n",
    "    Args:\n",
    "        texts (List[str]): 임베딩할 텍스트 리스트\n",
    "        batch_size (int): 배치 크기\n",
    "        \n",
    "    Returns:\n",
    "        List[List[float]]: 임베딩 벡터 리스트\n",
    "    \"\"\"\n",
    "    embeddings = []\n",
    "    \n",
    "    for i in tqdm(range(0, len(texts), batch_size), desc=\"임베딩 생성 중\"):\n",
    "        batch = texts[i:i + batch_size]\n",
    "        response = client.embeddings.create(\n",
    "            model=\"text-embedding-ada-002\",\n",
    "            input=batch\n",
    "        )\n",
    "        batch_embeddings = [data.embedding for data in response.data]\n",
    "        embeddings.extend(batch_embeddings)\n",
    "        \n",
    "    return embeddings"
   ]
  },
  {
   "cell_type": "markdown",
   "metadata": {},
   "source": [
    "## 4️⃣ 문서 벡터화\n",
    "\n",
    "전체 문서를 벡터화하고 결과를 저장합니다."
   ]
  },
  {
   "cell_type": "code",
   "execution_count": null,
   "metadata": {},
   "outputs": [],
   "source": [
    "# 문서 텍스트 추출\n",
    "texts = [doc['content'] for doc in documents]\n",
    "\n",
    "# 임베딩 생성\n",
    "embeddings = batch_get_embeddings(texts)\n",
    "\n",
    "# 임베딩을 문서에 추가\n",
    "for doc, embedding in zip(documents, embeddings):\n",
    "    doc['embedding'] = embedding\n",
    "\n",
    "# 벡터화된 문서 저장\n",
    "output_path = '../data/processed/documents_with_embeddings.json'\n",
    "with open(output_path, 'w', encoding='utf-8') as f:\n",
    "    json.dump(documents, f, ensure_ascii=False, indent=2)\n",
    "\n",
    "print(f\"벡터화된 문서가 {output_path}에 저장되었습니다.\")"
   ]
  },
  {
   "cell_type": "markdown",
   "metadata": {},
   "source": [
    "## 5️⃣ 벡터 품질 확인\n",
    "\n",
    "생성된 임베딩의 품질을 간단히 확인합니다."
   ]
  },
  {
   "cell_type": "code",
   "execution_count": null,
   "metadata": {},
   "outputs": [],
   "source": [
    "def cosine_similarity(v1: List[float], v2: List[float]) -> float:\n",
    "    \"\"\"\n",
    "    두 벡터 간의 코사인 유사도를 계산합니다.\n",
    "    \"\"\"\n",
    "    dot_product = np.dot(v1, v2)\n",
    "    norm1 = np.linalg.norm(v1)\n",
    "    norm2 = np.linalg.norm(v2)\n",
    "    return dot_product / (norm1 * norm2)\n",
    "\n",
    "# 샘플 문서 선택\n",
    "sample_doc = documents[0]\n",
    "sample_embedding = sample_doc['embedding']\n",
    "\n",
    "# 다른 문서들과의 유사도 계산\n",
    "similarities = []\n",
    "for doc in documents[1:10]:  # 처음 10개 문서만 비교\n",
    "    sim = cosine_similarity(sample_embedding, doc['embedding'])\n",
    "    similarities.append({\n",
    "        'content': doc['content'][:100] + '...',  # 내용 일부만 표시\n",
    "        'similarity': sim\n",
    "    })\n",
    "\n",
    "# 유사도 결과 출력\n",
    "print(\"기준 문서:\")\n",
    "print(sample_doc['content'][:100] + '...\\n')\n",
    "\n",
    "print(\"유사도가 높은 문서들:\")\n",
    "for item in sorted(similarities, key=lambda x: x['similarity'], reverse=True)[:3]:\n",
    "    print(f\"\\n유사도: {item['similarity']:.4f}\")\n",
    "    print(f\"내용: {item['content']}\")"
   ]
  },
  {
   "cell_type": "markdown",
   "metadata": {},
   "source": [
    "## 🎯 정리\n",
    "\n",
    "1. OpenAI의 text-embedding-ada-002 모델을 사용하여 문서를 벡터화했습니다.\n",
    "2. 배치 처리를 통해 효율적으로 임베딩을 생성했습니다.\n",
    "3. 코사인 유사도를 통해 벡터의 품질을 확인했습니다.\n",
    "\n",
    "다음 단계에서는 이 벡터화된 문서들을 Elasticsearch에 저장하고 검색 시스템을 구축해보겠습니다."
   ]
  }
 ],
 "metadata": {
  "kernelspec": {
   "display_name": "Python 3",
   "language": "python",
   "name": "python3"
  },
  "language_info": {
   "codemirror_mode": {
    "name": "ipython",
    "version": 3
   },
   "file_extension": ".py",
   "mimetype": "text/x-python",
   "name": "python",
   "nbconvert_exporter": "python",
   "pygments_lexer": "ipython3",
   "version": "3.9.0"
  }
 },
 "nbformat": 4,
 "nbformat_minor": 4
}
