{
 "cells": [
  {
   "cell_type": "markdown",
   "metadata": {},
   "source": [
    "# 📦 Step 06: Elasticsearch에 벡터 데이터 저장\n",
    "\n",
    "이 노트북에서는 이전 단계에서 생성한 벡터화된 문서들을 Elasticsearch에 저장하고 인덱스를 관리하는 방법을 알아봅니다.\n",
    "\n",
    "## 📝 주요 내용\n",
    "1. Elasticsearch 연결 설정\n",
    "2. 벡터 검색을 위한 인덱스 매핑 설정\n",
    "3. 벡터화된 문서 저장\n",
    "4. 인덱스 상태 확인 및 관리\n",
    "\n",
    "## 💡 Elasticsearch 벡터 검색 이해하기\n",
    "\n",
    "Elasticsearch에서 벡터 검색을 위해서는 다음 사항들을 고려해야 합니다:\n",
    "\n",
    "1. **인덱스 매핑**: dense_vector 타입을 사용하여 벡터 필드를 정의\n",
    "2. **차원 설정**: OpenAI의 text-embedding-ada-002 모델은 1536 차원 벡터 생성\n",
    "3. **유사도 메트릭**: cosine similarity를 사용하여 벡터 간 유사도 계산\n",
    "4. **인덱스 설정**: 효율적인 검색을 위한 샤드 및 레플리카 구성"
   ]
  },
  {
   "cell_type": "markdown",
   "metadata": {},
   "source": [
    "## 1️⃣ 필요한 라이브러리 임포트 및 환경 설정\n",
    "\n",
    "Elasticsearch 연결에 필요한 라이브러리를 임포트하고 환경 변수를 설정합니다."
   ]
  },
  {
   "cell_type": "code",
   "execution_count": null,
   "metadata": {},
   "outputs": [],
   "source": [
    "import os\n",
    "import json\n",
    "from typing import List, Dict\n",
    "from elasticsearch import Elasticsearch\n",
    "from elasticsearch.helpers import bulk\n",
    "from dotenv import load_dotenv\n",
    "from tqdm.notebook import tqdm\n",
    "\n",
    "# .env 파일에서 환경변수를 로드합니다\n",
    "load_dotenv()\n",
    "\n",
    "# Elasticsearch 클라이언트를 초기화합니다\n",
    "es = Elasticsearch(\n",
    "    hosts=[os.getenv('ELASTICSEARCH_URL', 'http://localhost:9200')],\n",
    "    basic_auth=(\n",
    "        os.getenv('ELASTICSEARCH_USERNAME', 'elastic'),\n",
    "        os.getenv('ELASTICSEARCH_PASSWORD', '')\n",
    "    )\n",
    ")\n",
    "\n",
    "# Elasticsearch 연결을 확인합니다\n",
    "if es.ping():\n",
    "    print(\"✅ Elasticsearch에 성공적으로 연결되었습니다.\")\n",
    "else:\n",
    "    raise ConnectionError(\"❌ Elasticsearch 연결에 실패했습니다.\")"
   ]
  },
  {
   "cell_type": "markdown",
   "metadata": {},
   "source": [
    "## 2️⃣ 벡터 검색을 위한 인덱스 매핑 설정\n",
    "\n",
    "Elasticsearch에서 벡터 검색을 위한 인덱스 매핑을 설정합니다.\n",
    "- dense_vector 타입으로 임베딩 필드를 정의\n",
    "- 문서 메타데이터를 위한 필드 추가\n",
    "- 효율적인 검색을 위한 인덱스 설정"
   ]
  },
  {
   "cell_type": "code",
   "execution_count": null,
   "metadata": {},
   "outputs": [],
   "source": [
    "# 인덱스 이름 설정\n",
    "INDEX_NAME = \"metadata-embeddings\"\n",
    "\n",
    "# 인덱스 매핑 정의\n",
    "mapping = {\n",
    "    \"settings\": {\n",
    "        # 검색 성능 최적화를 위한 샤드 설정\n",
    "        \"number_of_shards\": 1,\n",
    "        \"number_of_replicas\": 1\n",
    "    },\n",
    "    \"mappings\": {\n",
    "        \"properties\": {\n",
    "            # 문서 원본 텍스트\n",
    "            \"content\": {\n",
    "                \"type\": \"text\",\n",
    "                \"analyzer\": \"standard\"\n",
    "            },\n",
    "            # 문서 제목 또는 식별자\n",
    "            \"title\": {\n",
    "                \"type\": \"keyword\"\n",
    "            },\n",
    "            # 문서 종류 (테이블, 컬럼 등)\n",
    "            \"type\": {\n",
    "                \"type\": \"keyword\"\n",
    "            },\n",
    "            # OpenAI 임베딩 벡터 (1536 차원)\n",
    "            \"embedding\": {\n",
    "                \"type\": \"dense_vector\",\n",
    "                \"dims\": 1536,\n",
    "                \"index\": True,\n",
    "                \"similarity\": \"cosine\"\n",
    "            }\n",
    "        }\n",
    "    }\n",
    "}\n",
    "\n",
    "# 기존 인덱스가 있다면 삭제\n",
    "if es.indices.exists(index=INDEX_NAME):\n",
    "    es.indices.delete(index=INDEX_NAME)\n",
    "    print(f\"🗑️ 기존 '{INDEX_NAME}' 인덱스를 삭제했습니다.\")\n",
    "\n",
    "# 새 인덱스 생성\n",
    "es.indices.create(index=INDEX_NAME, body=mapping)\n",
    "print(f\"✨ 새로운 '{INDEX_NAME}' 인덱스를 생성했습니다.\")"
   ]
  },
  {
   "cell_type": "markdown",
   "metadata": {},
   "source": [
    "## 3️⃣ 벡터화된 문서 로드\n",
    "\n",
    "이전 단계에서 생성한 벡터화된 문서들을 로드합니다."
   ]
  },
  {
   "cell_type": "code",
   "execution_count": null,
   "metadata": {},
   "outputs": [],
   "source": [
    "# 벡터화된 문서 파일 로드\n",
    "with open('../data/processed/documents_with_embeddings.json', 'r', encoding='utf-8') as f:\n",
    "    documents = json.load(f)\n",
    "\n",
    "print(f\"📄 로드된 문서 수: {len(documents)}\")\n",
    "print(\"\\n문서 구조 예시:\")\n",
    "sample_doc = documents[0]\n",
    "print(f\"- 내용: {sample_doc['content'][:100]}...\")\n",
    "print(f\"- 임베딩 차원: {len(sample_doc['embedding'])}\")"
   ]
  },
  {
   "cell_type": "markdown",
   "metadata": {},
   "source": [
    "## 4️⃣ Elasticsearch에 문서 저장\n",
    "\n",
    "벡터화된 문서들을 Elasticsearch에 효율적으로 저장합니다.\n",
    "- bulk API를 사용하여 대량 데이터 처리\n",
    "- 진행 상황을 tqdm으로 시각화\n",
    "- 에러 처리 및 결과 확인"
   ]
  },
  {
   "cell_type": "code",
   "execution_count": null,
   "metadata": {},
   "outputs": [],
   "source": [
    "def generate_bulk_actions(documents: List[Dict]) -> List[Dict]:\n",
    "    \"\"\"\n",
    "    Elasticsearch bulk API용 액션 리스트를 생성합니다.\n",
    "    \n",
    "    Args:\n",
    "        documents: 벡터화된 문서 리스트\n",
    "        \n",
    "    Returns:\n",
    "        bulk API 포맷의 액션 리스트\n",
    "    \"\"\"\n",
    "    for i, doc in enumerate(documents):\n",
    "        # 각 문서에 대한 인덱스 액션 정의\n",
    "        yield {\n",
    "            \"_index\": INDEX_NAME,\n",
    "            \"_id\": str(i),  # 문서 ID\n",
    "            \"_source\": {\n",
    "                \"content\": doc[\"content\"],\n",
    "                \"title\": doc.get(\"title\", f\"문서_{i}\"),\n",
    "                \"type\": doc.get(\"type\", \"metadata\"),\n",
    "                \"embedding\": doc[\"embedding\"]\n",
    "            }\n",
    "        }\n",
    "\n",
    "# bulk API를 사용하여 문서 저장\n",
    "try:\n",
    "    with tqdm(total=len(documents), desc=\"문서 저장 중\") as pbar:\n",
    "        success, failed = bulk(\n",
    "            es,\n",
    "            generate_bulk_actions(documents),\n",
    "            chunk_size=100,  # 한 번에 처리할 문서 수\n",
    "            refresh=True,    # 저장 후 즉시 검색 가능하도록 설정\n",
    "            raise_on_error=True\n",
    "        )\n",
    "        pbar.update(success)\n",
    "    \n",
    "    print(f\"✅ 총 {success}개 문서가 성공적으로 저장되었습니다.\")\n",
    "    \n",
    "except Exception as e:\n",
    "    print(f\"❌ 문서 저장 중 오류 발생: {str(e)}\")"
   ]
  },
  {
   "cell_type": "markdown",
   "metadata": {},
   "source": [
    "## 5️⃣ 인덱스 상태 확인\n",
    "\n",
    "저장된 데이터의 상태와 인덱스 정보를 확인합니다."
   ]
  },
  {
   "cell_type": "code",
   "execution_count": null,
   "metadata": {},
   "outputs": [],
   "source": [
    "# 인덱스 상태 확인\n",
    "index_stats = es.indices.stats(index=INDEX_NAME)\n",
    "index_info = es.indices.get(index=INDEX_NAME)\n",
    "\n",
    "print(\"📊 인덱스 상태:\")\n",
    "print(f\"- 문서 수: {index_stats['_all']['total']['docs']['count']}\")\n",
    "print(f\"- 저장 크기: {index_stats['_all']['total']['store']['size_in_bytes'] / 1024 / 1024:.2f} MB\")\n",
    "\n",
    "# 샘플 문서 검색으로 저장 확인\n",
    "sample = es.search(\n",
    "    index=INDEX_NAME,\n",
    "    body={\n",
    "        \"size\": 1,\n",
    "        \"query\": {\"match_all\": {}}\n",
    "    }\n",
    ")\n",
    "\n",
    "print(\"\\n📄 저장된 문서 샘플:\")\n",
    "print(json.dumps(sample['hits']['hits'][0]['_source'], indent=2, ensure_ascii=False))"
   ]
  },
  {
   "cell_type": "markdown",
   "metadata": {},
   "source": [
    "## 🎯 정리\n",
    "\n",
    "이번 단계에서 완료한 작업:\n",
    "1. Elasticsearch 연결 및 설정\n",
    "2. 벡터 검색을 위한 인덱스 매핑 정의\n",
    "3. 벡터화된 문서의 효율적인 저장\n",
    "4. 인덱스 상태 확인 및 검증\n",
    "\n",
    "다음 단계에서는 저장된 벡터 데이터를 사용하여 실제 검색을 수행하고\n",
    "검색 결과의 품질을 평가해보겠습니다."
   ]
  }
 ],
 "metadata": {
  "kernelspec": {
   "display_name": "Python 3",
   "language": "python",
   "name": "python3"
  },
  "language_info": {
   "codemirror_mode": {
    "name": "ipython",
    "version": 3
   },
   "file_extension": ".py",
   "mimetype": "text/x-python",
   "name": "python",
   "nbconvert_exporter": "python",
   "pygments_lexer": "ipython3",
   "version": "3.9.0"
  }
 },
 "nbformat": 4,
 "nbformat_minor": 4
}
