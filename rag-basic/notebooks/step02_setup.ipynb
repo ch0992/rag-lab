{
 "cells": [
  {
   "cell_type": "markdown",
   "metadata": {},
   "source": [
    "# 🛠 Step 02: 개발 환경 구성\n",
    "\n",
    "이 노트북에서는 RAG 시스템 개발에 필요한 환경을 구성합니다.\n",
    "\n",
    "## 📌 필요한 패키지 설치\n",
    "\n",
    "먼저 필요한 패키지들을 설치하겠습니다:"
   ]
  },
  {
   "cell_type": "code",
   "execution_count": null,
   "metadata": {},
   "outputs": [],
   "source": [
    "# RAG 시스템 구축에 필요한 주요 패키지들을 설치\n",
    "# langchain: LLM 애플리케이션 개발을 위한 프레임워크\n",
    "# openai: OpenAI API를 사용하기 위한 공식 클라이언트\n",
    "# elasticsearch: 벡터 검색을 위한 Elasticsearch 클라이언트\n",
    "# python-dotenv: 환경 변수 관리를 위한 패키지\n",
    "# pandas, numpy: 데이터 처리를 위한 기본 패키지들\n",
    "\n",
    "\n",
    "!pip install langchain==0.1.0 \\\n",
    "            openai==1.12.0 \\\n",
    "            elasticsearch==8.11.1 \\\n",
    "            python-dotenv==1.0.0 \\\n",
    "            pandas==2.1.4 \\\n",
    "            numpy==1.26.3"
   ]
  },
  {
   "cell_type": "markdown",
   "metadata": {},
   "source": [
    "## 🔑 환경 변수 설정\n",
    "\n",
    "프로젝트 루트에 `.env` 파일을 생성하고 필요한 환경 변수를 설정합니다:"
   ]
  },
  {
   "cell_type": "code",
   "execution_count": null,
   "metadata": {},
   "outputs": [],
   "source": [
    "# %%writefile 매직 커맨드를 사용하여 프로젝트 루트에 .env 파일 생성\n",
    "# OPENAI_API_KEY: OpenAI API 인증을 위한 키\n",
    "# ELASTICSEARCH_URL: Elasticsearch 서버 접속 URL (k8s 서비스 주소)\n",
    "# ELASTICSEARCH_USERNAME: Elasticsearch 접속 계정\n",
    "# ELASTICSEARCH_PASSWORD: Elasticsearch 접속 비밀번호\n",
    "\n",
    "%%writefile ../.env\n",
    "OPENAI_API_KEY=your-api-key-here\n",
    "ELASTICSEARCH_URL=https://elasticsearch-master.elasticsearch.svc.cluster.local:9200\n",
    "ELASTICSEARCH_USERNAME=elastic\n",
    "ELASTICSEARCH_PASSWORD=your-password-here"
   ]
  },
  {
   "cell_type": "markdown",
   "metadata": {},
   "source": [
    "## 🔍 Elasticsearch 연결 테스트\n",
    "\n",
    "Elasticsearch가 정상적으로 동작하는지 확인합니다:"
   ]
  },
  {
   "cell_type": "code",
   "execution_count": null,
   "metadata": {},
   "outputs": [],
   "source": [
    "# 필요한 라이브러리 임포트\n",
    "import os  # 환경 변수 접근을 위한 모듈\n",
    "from dotenv import load_dotenv  # .env 파일에서 환경 변수를 로드하기 위한 모듈\n",
    "from elasticsearch import Elasticsearch  # Elasticsearch 클라이언트\n",
    "\n",
    "# .env 파일에서 환경 변수를 시스템에 로드\n",
    "load_dotenv()\n",
    "\n",
    "# Elasticsearch 클라이언트 인스턴스 생성\n",
    "es = Elasticsearch(\n",
    "    os.getenv('ELASTICSEARCH_URL'),  # .env 파일에서 설정한 Elasticsearch 서버 주소\n",
    "    basic_auth=(  # 기본 인증 정보 설정\n",
    "        os.getenv('ELASTICSEARCH_USERNAME'),  # Elasticsearch 사용자 이름\n",
    "        os.getenv('ELASTICSEARCH_PASSWORD')   # Elasticsearch 비밀번호\n",
    "    ),\n",
    "    verify_certs=False  # SSL 인증서 검증 비활성화 (개발 환경에서만 사용할 것)\n",
    ")\n",
    "\n",
    "# Elasticsearch 서버 연결 상태 확인\n",
    "if es.ping():  # ping() 메서드로 서버 응답 확인\n",
    "    print(\"✅ Elasticsearch 연결 성공!\")\n",
    "    print(f\"📊 클러스터 정보: {es.info()}\")  # 클러스터 상세 정보 출력\n",
    "else:\n",
    "    print(\"❌ Elasticsearch 연결 실패\")"
   ]
  },
  {
   "cell_type": "markdown",
   "metadata": {},
   "source": [
    "## 🔄 OpenAI API 테스트\n",
    "\n",
    "OpenAI API가 정상적으로 작동하는지 확인합니다:"
   ]
  },
  {
   "cell_type": "code",
   "execution_count": null,
   "metadata": {},
   "outputs": [],
   "source": [
    "# OpenAI API 클라이언트 라이브러리 임포트\n",
    "from openai import OpenAI\n",
    "\n",
    "# OpenAI 클라이언트 인스턴스 생성 (자동으로 OPENAI_API_KEY 환경 변수 사용)\n",
    "client = OpenAI()\n",
    "\n",
    "# OpenAI API 연결 테스트\n",
    "try:\n",
    "    # text-embedding-ada-002 모델을 사용하여 텍스트 임베딩 생성\n",
    "    response = client.embeddings.create(\n",
    "        model=\"text-embedding-ada-002\",  # OpenAI의 텍스트 임베딩 모델\n",
    "        input=\"Hello, World!\"  # 테스트용 입력 텍스트\n",
    "    )\n",
    "    print(\"✅ OpenAI API 연결 성공!\")\n",
    "    print(f\"📊 임베딩 차원: {len(response.data[0].embedding)}\")  # 생성된 임베딩의 차원 수 출력\n",
    "except Exception as e:\n",
    "    print(f\"❌ OpenAI API 연결 실패: {e}\")  # 오류 발생 시 예외 메시지 출력"
   ]
  },
  {
   "cell_type": "markdown",
   "metadata": {},
   "source": [
    "## 🎯 다음 단계\n",
    "\n",
    "개발 환경 설정이 완료되었습니다. 다음 단계에서는 Iceberg metadata를 로딩하고 분석하겠습니다."
   ]
  }
 ],
 "metadata": {
  "kernelspec": {
   "display_name": "Python 3",
   "language": "python",
   "name": "python3"
  },
  "language_info": {
   "codemirror_mode": {
    "name": "ipython",
    "version": 3
   },
   "file_extension": ".py",
   "mimetype": "text/x-python",
   "name": "python",
   "nbconvert_exporter": "python",
   "pygments_lexer": "ipython3",
   "version": "3.9.0"
  }
 },
 "nbformat": 4,
 "nbformat_minor": 4
}
