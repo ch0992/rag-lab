{
 "cells": [
  {
   "cell_type": "markdown",
   "metadata": {},
   "source": [
    "# 🧠 Step 01: RAG(Retrieval-Augmented Generation) 소개\n",
    "\n",
    "이 노트북에서는 RAG 시스템의 기본 개념과 작동 원리를 살펴보겠습니다.\n",
    "\n",
    "## 📌 RAG란?\n",
    "\n",
    "RAG(Retrieval-Augmented Generation)는 대규모 언어 모델(LLM)의 응답 생성 능력을 향상시키기 위해\n",
    "외부 문서나 데이터를 검색하여 활용하는 방식입니다.\n",
    "\n",
    "### RAG의 주요 구성 요소\n",
    "\n",
    "1. **문서 저장소**: 검색 가능한 형태로 저장된 문서들 (우리의 경우 Elasticsearch)\n",
    "2. **검색 시스템**: 관련 문서를 효율적으로 찾아주는 컴포넌트\n",
    "3. **생성 모델**: 검색된 문서를 바탕으로 응답을 생성하는 LLM\n",
    "\n",
    "### RAG의 장점\n",
    "\n",
    "- 최신 정보 반영 가능\n",
    "- 환각(Hallucination) 감소\n",
    "- 답변의 신뢰성 향상\n",
    "- 도메인 특화 지식 활용"
   ]
  },
  {
   "cell_type": "markdown",
   "metadata": {},
   "source": [
    "## 🛠 우리 프로젝트의 RAG 구성\n",
    "\n",
    "이 프로젝트에서는 다음과 같은 구성으로 RAG 시스템을 구축할 예정입니다:\n",
    "\n",
    "1. **문서 저장소**: Elasticsearch\n",
    "   - 벡터 검색 지원\n",
    "   - 고성능 분산 검색 엔진\n",
    "   - 실시간 업데이트 가능\n",
    "\n",
    "2. **임베딩 모델**: OpenAI의 text-embedding-ada-002\n",
    "   - 고품질 텍스트 임베딩\n",
    "   - 일관된 벡터 표현\n",
    "\n",
    "3. **생성 모델**: GPT 모델\n",
    "   - 검색된 문서 기반 응답 생성\n",
    "   - 자연스러운 대화형 인터페이스\n",
    "\n",
    "4. **프레임워크**: LangChain\n",
    "   - RAG 파이프라인 구축\n",
    "   - 컴포넌트 통합 및 관리"
   ]
  },
  {
   "cell_type": "markdown",
   "metadata": {},
   "source": [
    "## 📝 프로젝트 목표\n",
    "\n",
    "1. Iceberg metadata를 기반으로 한 문서 검색형 RAG 시스템 구현\n",
    "2. Elasticsearch를 벡터 DB로 활용하여 검색 성능 최적화\n",
    "3. 대화형 인터페이스 구현\n",
    "4. FastAPI 기반 API 서버 구축\n",
    "\n",
    "다음 단계에서는 실제 개발 환경을 구성하고 필요한 패키지들을 설치하겠습니다."
   ]
  }
 ],
 "metadata": {
  "kernelspec": {
   "display_name": "Python 3",
   "language": "python",
   "name": "python3"
  },
  "language_info": {
   "codemirror_mode": {
    "name": "ipython",
    "version": 3
   },
   "file_extension": ".py",
   "mimetype": "text/x-python",
   "name": "python",
   "nbconvert_exporter": "python",
   "pygments_lexer": "ipython3",
   "version": "3.9.0"
  }
 },
 "nbformat": 4,
 "nbformat_minor": 4
}
