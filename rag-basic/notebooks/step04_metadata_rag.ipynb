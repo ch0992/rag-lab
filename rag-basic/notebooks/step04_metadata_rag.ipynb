{
 "cells": [
  {
   "cell_type": "markdown",
   "metadata": {},
   "source": [
    "# 🎯 Step 04: 데이터베이스 메타데이터 RAG 시스템\n",
    "\n",
    "이 노트북에서는 실제 데이터베이스 메타데이터를 활용하여 실용적인 RAG 시스템을 구현합니다.\n",
    "사용자는 자연어로 데이터베이스 구조에 대해 질문하고, 시스템은 메타데이터를 기반으로 답변합니다.\n",
    "\n",
    "## 📚 1단계: 필요한 라이브러리 임포트\n",
    "\n",
    "이전 단계의 라이브러리에 더해 다음 라이브러리들을 추가로 사용합니다:\n",
    "- pandas: CSV 파일 읽기 및 데이터 처리\n",
    "- json: 샘플 값과 통계 데이터 처리\n",
    "- typing: 타입 힌트 제공"
   ]
  },
  {
   "cell_type": "code",
   "execution_count": null,
   "metadata": {},
   "outputs": [],
   "source": [
    "# 기본 시스템 라이브러리\n",
    "import os\n",
    "import json\n",
    "from typing import List, Dict\n",
    "from dotenv import load_dotenv\n",
    "\n",
    "# 데이터 처리 라이브러리\n",
    "import pandas as pd\n",
    "\n",
    "# Elasticsearch 관련\n",
    "from elasticsearch import Elasticsearch\n",
    "\n",
    "# LangChain 관련\n",
    "from langchain.embeddings import OpenAIEmbeddings\n",
    "from langchain.vectorstores import ElasticsearchStore\n",
    "from langchain.chat_models import ChatOpenAI\n",
    "from langchain.chains import RetrievalQA\n",
    "\n",
    "# 환경 변수 로드\n",
    "load_dotenv()"
   ]
  },
  {
   "cell_type": "markdown",
   "metadata": {},
   "source": [
    "## 📊 2단계: 메타데이터 로드 및 전처리\n",
    "\n",
    "sample_metadata.csv 파일에는 다음과 같은 정보가 포함되어 있습니다:\n",
    "- 테이블명\n",
    "- 컬럼명\n",
    "- 데이터 타입\n",
    "- 설명\n",
    "- 샘플 값\n",
    "- 통계 정보\n",
    "\n",
    "이 정보를 읽어서 RAG 시스템에서 사용할 수 있는 형태로 변환합니다."
   ]
  },
  {
   "cell_type": "code",
   "execution_count": null,
   "metadata": {},
   "outputs": [],
   "source": [
    "# CSV 파일 경로 설정\n",
    "metadata_file = \"../data/sample_metadata.csv\"\n",
    "\n",
    "# CSV 파일 읽기\n",
    "df = pd.read_csv(metadata_file)\n",
    "\n",
    "# 메타데이터를 문서화된 텍스트로 변환하는 함수\n",
    "def format_metadata_to_text(row) -> str:\n",
    "    # JSON 형식의 문자열을 파이썬 객체로 변환\n",
    "    sample_values = json.loads(row['sample_values'].replace(\"'\", '\"'))\n",
    "    statistics = json.loads(row['statistics'].replace(\"'\", '\"'))\n",
    "    \n",
    "    # 통계 정보를 읽기 쉬운 형식으로 변환\n",
    "    stats_text = []\n",
    "    for key, value in statistics.items():\n",
    "        if key == 'null_count':\n",
    "            stats_text.append(f\"NULL 값 개수: {value}\")\n",
    "        elif key == 'distinct_count':\n",
    "            stats_text.append(f\"고유 값 개수: {value}\")\n",
    "        elif key in ['min', 'max']:\n",
    "            stats_text.append(f\"{key}: {value}\")\n",
    "    \n",
    "    # 전체 텍스트 구성\n",
    "    return f\"테이블 '{row['table_name']}'의 '{row['column_name']}' 컬럼:\\n\" + \\\n",
    "           f\"- 데이터 타입: {row['data_type']}\\n\" + \\\n",
    "           f\"- 설명: {row['description']}\\n\" + \\\n",
    "           f\"- 샘플 값: {', '.join(map(str, sample_values))}\\n\" + \\\n",
    "           f\"- 통계: {', '.join(stats_text)}\"\n",
    "\n",
    "# 각 행을 문서화된 텍스트로 변환\n",
    "documents = df.apply(format_metadata_to_text, axis=1).tolist()\n",
    "\n",
    "# 변환된 문서 개수 출력\n",
    "print(f\"✅ {len(documents)}개의 메타데이터 문서가 생성되었습니다.\")\n",
    "\n",
    "# 첫 번째 문서 예시 출력\n",
    "print(\"\\n📝 문서 예시:\")\n",
    "print(documents[0])"
   ]
  },
  {
   "cell_type": "markdown",
   "metadata": {},
   "source": [
    "## 🔌 3단계: Elasticsearch 연결\n",
    "\n",
    "이전 단계와 동일하게 Elasticsearch에 연결합니다.\n",
    "이번에는 메타데이터 전용 인덱스를 생성할 것입니다."
   ]
  },
  {
   "cell_type": "code",
   "execution_count": null,
   "metadata": {},
   "outputs": [],
   "source": [
    "# Elasticsearch 클라이언트 설정\n",
    "es = Elasticsearch(\n",
    "    os.getenv('ELASTICSEARCH_URL'),\n",
    "    basic_auth=(\n",
    "        os.getenv('ELASTICSEARCH_USERNAME'),\n",
    "        os.getenv('ELASTICSEARCH_PASSWORD')\n",
    "    ),\n",
    "    verify_certs=False\n",
    ")\n",
    "\n",
    "# 연결 확인\n",
    "if es.ping():\n",
    "    print(\"✅ Elasticsearch 연결 성공!\")\n",
    "else:\n",
    "    print(\"❌ Elasticsearch 연결 실패!\")"
   ]
  },
  {
   "cell_type": "markdown",
   "metadata": {},
   "source": [
    "## 🔄 4단계: 메타데이터 벡터 저장소 설정\n",
    "\n",
    "메타데이터 문서들을 벡터로 변환하여 저장합니다.\n",
    "이전과 달리 이번에는 실제 데이터베이스 구조에 대한 정보를 저장하므로,\n",
    "더 정확한 검색과 답변이 가능해집니다."
   ]
  },
  {
   "cell_type": "code",
   "execution_count": null,
   "metadata": {},
   "outputs": [],
   "source": [
    "# OpenAI 임베딩 모델 초기화\n",
    "embeddings = OpenAIEmbeddings()\n",
    "\n",
    "# 메타데이터 전용 벡터 저장소 설정\n",
    "index_name = \"metadata-rag\"  # 새로운 인덱스 이름\n",
    "vector_store = ElasticsearchStore(\n",
    "    es_connection=es,\n",
    "    index_name=index_name,\n",
    "    embedding=embeddings\n",
    ")\n",
    "\n",
    "# 메타데이터 문서들을 벡터로 변환하여 저장\n",
    "vector_store.add_texts(documents)\n",
    "print(f\"✅ {len(documents)}개의 메타데이터 문서가 벡터 저장소에 저장되었습니다.\")"
   ]
  },
  {
   "cell_type": "markdown",
   "metadata": {},
   "source": [
    "## 🤖 5단계: 메타데이터 RAG 시스템 구현\n",
    "\n",
    "이제 데이터베이스 메타데이터에 특화된 RAG 시스템을 구현합니다.\n",
    "사용자는 다음과 같은 질문들을 할 수 있습니다:\n",
    "- 특정 테이블의 구조\n",
    "- 특정 컬럼의 데이터 타입\n",
    "- 컬럼의 설명과 용도\n",
    "- 데이터의 특성과 통계 정보"
   ]
  },
  {
   "cell_type": "code",
   "execution_count": null,
   "metadata": {},
   "outputs": [],
   "source": [
    "# ChatGPT 모델 초기화\n",
    "llm = ChatOpenAI(model_name=\"gpt-3.5-turbo\", temperature=0)\n",
    "\n",
    "# 메타데이터 질의응답 체인 생성\n",
    "qa_chain = RetrievalQA.from_chain_type(\n",
    "    llm=llm,\n",
    "    chain_type=\"stuff\",\n",
    "    retriever=vector_store.as_retriever()\n",
    ")"
   ]
  },
  {
   "cell_type": "markdown",
   "metadata": {},
   "source": [
    "## 💬 6단계: 메타데이터 질의응답 테스트\n",
    "\n",
    "이제 다양한 질문을 통해 메타데이터 RAG 시스템을 테스트해봅니다.\n",
    "시스템은 질문의 의도를 파악하고, 관련된 메타데이터를 검색하여\n",
    "정확하고 상세한 답변을 제공합니다."
   ]
  },
  {
   "cell_type": "code",
   "execution_count": null,
   "metadata": {},
   "outputs": [],
   "source": [
    "# 테스트할 질문들\n",
    "questions = [\n",
    "    \"customer_orders 테이블의 구조를 설명해주세요.\",\n",
    "    \"주문 금액의 범위는 어떻게 되나요?\",\n",
    "    \"주문 상태는 어떤 값들이 가능한가요?\",\n",
    "    \"고객의 이메일 정보는 어떤 테이블에 저장되나요?\"\n",
    "]\n",
    "\n",
    "# 각 질문에 대한 답변 생성\n",
    "for question in questions:\n",
    "    print(f\"\\n질문: {question}\")\n",
    "    print(f\"답변: {qa_chain.run(question)}\")\n",
    "    print(\"-\" * 80)"
   ]
  }
 ],
 "metadata": {
  "kernelspec": {
   "display_name": "Python 3",
   "language": "python",
   "name": "python3"
  },
  "language_info": {
   "codemirror_mode": {
    "name": "ipython",
    "version": 3
   },
   "file_extension": ".py",
   "mimetype": "text/x-python",
   "name": "python",
   "nbconvert_exporter": "python",
   "pygments_lexer": "ipython3",
   "version": "3.9.0"
  }
 },
 "nbformat": 4,
 "nbformat_minor": 4
}
