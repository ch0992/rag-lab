{
 "cells": [
  {
   "cell_type": "markdown",
   "metadata": {},
   "source": [
    "# RAG 시스템 - 환경 설정 및 실행 방법\n",
    "\n",
    "이 노트북은 RAG 시스템을 실행하기 위한 환경 설정과 Jupyter Notebook 실행 방법을 설명합니다.\n",
    "\n",
    "## 시스템 요구사항\n",
    "\n",
    "1. Python 3.9 이상\n",
    "2. ChromaDB\n",
    "3. Ollama\n",
    "4. Jupyter Notebook/Lab\n",
    "\n",
    "## 설치 순서\n",
    "\n",
    "### 1. Python 패키지 설치\n",
    "```bash\n",
    "pip install -r requirements.txt\n",
    "```\n",
    "\n",
    "### 2. ChromaDB 설치 및 실행\n",
    "```bash\n",
    "docker pull chromadb/chroma\n",
    "docker run -p 8090:8090 chromadb/chroma\n",
    "```\n",
    "\n",
    "### 3. Ollama 설치 및 모델 다운로드\n",
    "```bash\n",
    "curl https://ollama.ai/install.sh | sh\n",
    "ollama pull deepseek-r1:8b\n",
    "```\n",
    "\n",
    "## Jupyter Notebook 실행 방법\n",
    "\n",
    "1. 터미널에서 프로젝트 디렉토리로 이동:\n",
    "```bash\n",
    "cd /path/to/rag-lab/rag-jupyter\n",
    "```\n",
    "\n",
    "2. Jupyter Notebook 실행:\n",
    "```bash\n",
    "jupyter notebook\n",
    "```\n",
    "\n",
    "3. 웹 브라우저에서 노트북 실행 순서:\n",
    "   - `01_document_store.ipynb`: 문서 저장\n",
    "   - `02_document_view.ipynb`: 저장된 문서 확인\n",
    "   - `03_query_documents.ipynb`: 문서 질의 및 응답\n",
    "\n",
    "## 주의사항\n",
    "\n",
    "1. ChromaDB 서버가 실행 중이어야 합니다\n",
    "2. Ollama 서버가 실행 중이어야 합니다\n",
    "3. 각 노트북은 순서대로 실행해야 합니다"
   ]
  },
  {
   "cell_type": "markdown",
   "id": "ed4a9fda",
   "metadata": {},
   "source": [
    "## 가상환경 설정\n",
    "\n",
    "터미널에서 다음 명령어를 실행하여 가상환경을 설정합니다:\n",
    "```bash\n",
    "python -m venv venv\n",
    "source venv/bin/activate  # macOS/Linux\n",
    "pip install -r requirements.txt\n",
    "```\n"
   ]
  },
  {
   "cell_type": "markdown",
   "id": "043d8a61",
   "metadata": {},
   "source": [
    "## 환경 설정 확인\n",
    "\n",
    "이 섹션에서는 시스템 환경이 올바르게 설정되어 있는지 확인합니다."
   ]
  },
  {
   "cell_type": "markdown",
   "metadata": {},
   "source": [
    "## 서버 상태 확인\n",
    "\n",
    "아래 코드를 실행하여 필요한 서버들이 정상적으로 실행 중인지 확인할 수 있습니다."
   ]
  },
  {
   "cell_type": "code",
   "execution_count": null,
   "metadata": {},
   "outputs": [],
   "source": [
    "import requests\n",
    "\n",
    "def check_servers():\n",
    "    \"\"\"ChromaDB와 Ollama 서버 상태 확인\"\"\"\n",
    "    servers = {\n",
    "        'ChromaDB': 'http://localhost:8090/api/v1/heartbeat',\n",
    "        'Ollama': 'http://localhost:11434/api/tags'\n",
    "    }\n",
    "    \n",
    "    for name, url in servers.items():\n",
    "        try:\n",
    "            response = requests.get(url)\n",
    "            if response.status_code == 200:\n",
    "                print(f\"✅ {name} 서버가 정상적으로 실행 중입니다.\")\n",
    "            else:\n",
    "                print(f\"❌ {name} 서버에 연결할 수 없습니다. 상태 코드: {response.status_code}\")\n",
    "        except requests.exceptions.RequestException as e:\n",
    "            print(f\"❌ {name} 서버에 연결할 수 없습니다. 오류: {str(e)}\")\n",
    "\n",
    "# 서버 상태 확인\n",
    "check_servers()"
   ]
  },
  {
   "cell_type": "markdown",
   "metadata": {},
   "source": [
    "## 필요한 Python 패키지 확인\n",
    "\n",
    "아래 코드를 실행하여 필요한 Python 패키지들이 올바르게 설치되어 있는지 확인할 수 있습니다."
   ]
  },
  {
   "cell_type": "code",
   "execution_count": null,
   "id": "08049103",
   "metadata": {},
   "outputs": [],
   "source": [
    "def check_packages():\n",
    "    \"\"\"필요한 Python 패키지 확인\"\"\"\n",
    "    required_packages = [\n",
    "        \"langchain\",\n",
    "        \"chromadb\",\n",
    "        \"requests\",\n",
    "        \"sentence_transformers\",\n",
    "        \"torch\",\n",
    "        \"langchain_community\",\n",
    "        \"langchain_core\"\n",
    "    ]\n",
    "    \n",
    "    for package in required_packages:\n",
    "        try:\n",
    "            __import__(package)\n",
    "            print(f\"✅ {package} 패키지가 설치되어 있습니다.\")\n",
    "        except ImportError:\n",
    "            print(f\"❌ {package} 패키지를 찾을 수 없습니다. 'pip install {package}'를 실행하세요.\")\n",
    "\n",
    "# 패키지 확인\n",
    "check_packages()"
   ]
  }
 ],
 "metadata": {
  "language_info": {
   "name": "python"
  }
 },
 "nbformat": 4,
 "nbformat_minor": 2
}
