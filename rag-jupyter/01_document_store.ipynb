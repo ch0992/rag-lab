{
 "cells": [
  {
   "cell_type": "markdown",
   "metadata": {},
   "source": [
    "# RAG 시스템 - 문서 저장 (Document Storage)\n",
    "\n",
    "이 노트북은 RAG(Retrieval-Augmented Generation) 시스템에서 문서를 벡터 데이터베이스에 저장하는 과정을 설명합니다.\n",
    "\n",
    "## 주요 구성요소\n",
    "1. 텍스트 분할 (Text Splitting)\n",
    "2. 임베딩 생성 (Embedding Generation)\n",
    "3. 벡터 저장소 (Vector Storage)\n",
    "\n",
    "## 사전 요구사항\n",
    "- ChromaDB가 실행 중이어야 합니다\n",
    "- 필요한 Python 패키지가 설치되어 있어야 합니다"
   ]
  },
  {
   "cell_type": "markdown",
   "metadata": {},
   "source": [
    "## 1. 필요한 라이브러리 임포트\n",
    "\n",
    "RAG 시스템 구현에 필요한 핵심 라이브러리들을 임포트합니다:\n",
    "- `langchain_community.vectorstores`: 벡터 저장소 관리\n",
    "- `langchain.text_splitter`: 문서를 작은 청크로 분할\n",
    "- `langchain_community.embeddings`: 텍스트를 벡터로 변환"
   ]
  },
  {
   "cell_type": "code",
   "execution_count": null,
   "metadata": {},
   "outputs": [],
   "source": [
    "import json\n",
    "from langchain_community.vectorstores import Chroma\n",
    "from langchain.text_splitter import RecursiveCharacterTextSplitter\n",
    "from langchain_community.embeddings import HuggingFaceEmbeddings"
   ]
  },
  {
   "cell_type": "markdown",
   "metadata": {},
   "source": [
    "## 2. ChromaDB 설정\n",
    "\n",
    "ChromaDB 연결 및 데이터 저장을 위한 기본 설정을 정의합니다:\n",
    "- `CHROMA_HOST`: ChromaDB 서버 주소\n",
    "- `CHROMA_PORT`: 서버 포트\n",
    "- `PERSIST_DIR`: 데이터 영구 저장 경로"
   ]
  },
  {
   "cell_type": "code",
   "execution_count": null,
   "metadata": {},
   "outputs": [],
   "source": [
    "CHROMA_HOST = \"localhost\"\n",
    "CHROMA_PORT = \"8090\"\n",
    "PERSIST_DIR = \"./data\"  # ChromaDB 데이터 저장 경로"
   ]
  },
  {
   "cell_type": "markdown",
   "metadata": {},
   "source": [
    "## 3. 임베딩 모델 설정\n",
    "\n",
    "텍스트를 벡터로 변환하는 임베딩 모델을 설정합니다.\n",
    "- 모델: nomic-ai/nomic-embed-text-v1\n",
    "- CPU 기반 처리\n",
    "- 정규화된 임베딩 생성"
   ]
  },
  {
   "cell_type": "code",
   "execution_count": null,
   "metadata": {},
   "outputs": [],
   "source": [
    "def get_embeddings():\n",
    "    \"\"\"한국어에 최적화된 임베딩 모델 생성\"\"\"\n",
    "    return HuggingFaceEmbeddings(\n",
    "        model_name=\"nomic-ai/nomic-embed-text-v1\",\n",
    "        model_kwargs={'device': 'cpu'},\n",
    "        encode_kwargs={'normalize_embeddings': True}\n",
    "    )"
   ]
  },
  {
   "cell_type": "markdown",
   "metadata": {},
   "source": [
    "## 4. 문서 저장 함수\n",
    "\n",
    "문서를 ChromaDB에 저장하는 핵심 함수입니다. 다음 단계로 진행됩니다:\n",
    "\n",
    "1. 문서 텍스트 추출\n",
    "2. 한글 최적화 텍스트 분할\n",
    "3. 임베딩 생성\n",
    "4. ChromaDB 저장\n",
    "\n",
    "특징:\n",
    "- 한글 문서에 최적화된 분할 규칙 사용\n",
    "- 300자 단위로 청크 생성\n",
    "- 50자 오버랩으로 문맥 유지"
   ]
  },
  {
   "cell_type": "code",
   "execution_count": null,
   "metadata": {},
   "outputs": [],
   "source": [
    "def store_documents_in_chroma(documents, collection_name=\"rag_test\"):\n",
    "    \"\"\"문서를 벡터로 변환하여 ChromaDB에 저장\"\"\"\n",
    "    try:\n",
    "        # 문서 텍스트 추출\n",
    "        texts = []\n",
    "        for doc in documents:\n",
    "            if hasattr(doc, 'page_content'):\n",
    "                texts.append(doc.page_content)\n",
    "            elif isinstance(doc, str):\n",
    "                texts.append(doc)\n",
    "            else:\n",
    "                raise ValueError(f\"지원하지 않는 문서 형식: {type(doc)}\")\n",
    "\n",
    "        # 한글 문서에 최적화된 텍스트 스플리터 설정\n",
    "        text_splitter = RecursiveCharacterTextSplitter(\n",
    "            separators=[\"\\n\\n\", \"\\n\", \".\", \"!\", \"?\", \"。\", \"！\", \"？\", \" \", \"\"],\n",
    "            chunk_size=300,\n",
    "            chunk_overlap=50,\n",
    "            length_function=len,\n",
    "            keep_separator=False,\n",
    "            is_separator_regex=False\n",
    "        )\n",
    "        \n",
    "        # 문서를 청크로 분할\n",
    "        splits = []\n",
    "        for text in texts:\n",
    "            if isinstance(text, str) and text.strip():\n",
    "                doc_splits = text_splitter.split_text(text)\n",
    "                splits.extend(doc_splits)\n",
    "\n",
    "        if not splits:\n",
    "            raise ValueError(\"유효한 텍스트가 없습니다\")\n",
    "\n",
    "        # 임베딩 모델 사용\n",
    "        embedding_model = get_embeddings()\n",
    "\n",
    "        # Chroma 인스턴스 생성 및 저장\n",
    "        vector_db = Chroma.from_texts(\n",
    "            texts=splits,\n",
    "            embedding=embedding_model,\n",
    "            collection_name=collection_name,\n",
    "            persist_directory=PERSIST_DIR\n",
    "        )\n",
    "\n",
    "        print(f\"✅ {len(splits)}개의 청크가 성공적으로 저장되었습니다.\")\n",
    "        return vector_db\n",
    "\n",
    "    except Exception as e:\n",
    "        print(f\"❌ 벡터DB 저장 실패: {str(e)}\")\n",
    "        return None"
   ]
  },
  {
   "cell_type": "markdown",
   "metadata": {},
   "source": [
    "## 5. 예제: 문서 저장\n",
    "\n",
    "샘플 문서를 사용하여 저장 기능을 테스트합니다.\n",
    "- 한국의 계절에 대한 간단한 설명문\n",
    "- 각 문장은 자동으로 적절한 크기로 분할됨\n",
    "- 저장 결과 확인 가능"
   ]
  },
  {
   "cell_type": "code",
   "execution_count": null,
   "metadata": {},
   "outputs": [],
   "source": [
    "# 예제: 문서 저장하기\n",
    "sample_documents = [\n",
    "    \"한국의 계절은 봄, 여름, 가을, 겨울로 나뉩니다. 각 계절은 고유한 특징을 가지고 있습니다.\",\n",
    "    \"봄에는 꽃이 피고 날씨가 따뜻해집니다. 벚꽃과 진달래가 대표적인 봄꽃입니다.\",\n",
    "    \"여름은 덥고 습합니다. 장마철이 있으며, 해수욕장이나 계곡을 찾는 사람들이 많습니다.\"\n",
    "]\n",
    "\n",
    "vector_db = store_documents_in_chroma(sample_documents)"
   ]
  }
 ],
 "metadata": {
  "language_info": {
   "name": "python"
  }
 },
 "nbformat": 4,
 "nbformat_minor": 2
}
