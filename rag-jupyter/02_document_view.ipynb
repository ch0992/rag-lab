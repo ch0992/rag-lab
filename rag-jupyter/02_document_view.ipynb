{
 "cells": [
  {
   "cell_type": "markdown",
   "metadata": {},
   "source": [
    "# RAG 시스템 - 저장된 문서 확인 (Document Viewing)\n",
    "\n",
    "이 노트북은 ChromaDB에 저장된 문서들을 확인하고 검색하는 방법을 설명합니다.\n",
    "\n",
    "## 주요 기능\n",
    "1. 벡터 스토어 연결\n",
    "2. 저장된 문서 조회\n",
    "3. 문서 내용 확인\n",
    "\n",
    "## 사전 요구사항\n",
    "- ChromaDB 서버가 실행 중이어야 합니다\n",
    "- 이전 단계에서 저장된 문서가 있어야 합니다"
   ]
  },
  {
   "cell_type": "markdown",
   "metadata": {},
   "source": [
    "## 1. 필요한 라이브러리 임포트 및 설정\n",
    "\n",
    "문서 조회에 필요한 기본 설정을 진행합니다:\n",
    "- Chroma: 벡터 데이터베이스 접근\n",
    "- HuggingFaceEmbeddings: 임베딩 모델\n",
    "- 기본 설정값 정의"
   ]
  },
  {
   "cell_type": "code",
   "execution_count": null,
   "metadata": {},
   "source": [
    "from langchain_community.vectorstores import Chroma\n",
    "from langchain_community.embeddings import HuggingFaceEmbeddings\n",
    "\n",
    "# ChromaDB 설정\n",
    "PERSIST_DIR = \"./data\"\n",
    "COLLECTION_NAME = \"rag_test\""
   ]
  },
  {
   "cell_type": "markdown",
   "metadata": {},
   "source": [
    "## 2. 임베딩 모델 설정\n",
    "\n",
    "문서 검색을 위한 임베딩 모델을 설정합니다:\n",
    "- nomic-embed-text-v1 모델 사용\n",
    "- CPU 기반 처리\n",
    "- 정규화된 임베딩 사용"
   ]
  },
  {
   "cell_type": "code",
   "execution_count": null,
   "metadata": {},
   "source": [
    "def get_embeddings():\n",
    "    \"\"\"한국어에 최적화된 임베딩 모델 생성\"\"\"\n",
    "    return HuggingFaceEmbeddings(\n",
    "        model_name=\"nomic-ai/nomic-embed-text-v1\",\n",
    "        model_kwargs={'device': 'cpu'},\n",
    "        encode_kwargs={'normalize_embeddings': True}\n",
    "    )"
   ]
  },
  {
   "cell_type": "markdown",
   "metadata": {},
   "source": [
    "## 3. 벡터 스토어 로드\n",
    "\n",
    "ChromaDB에서 저장된 문서들을 로드하는 함수입니다:\n",
    "- 지정된 컬렉션에 연결\n",
    "- 임베딩 모델 초기화\n",
    "- 에러 처리 포함"
   ]
  },
  {
   "cell_type": "code",
   "execution_count": null,
   "metadata": {},
   "source": [
    "def load_vector_store():\n",
    "    \"\"\"ChromaDB에서 벡터 스토어 로드\"\"\"\n",
    "    try:\n",
    "        embedding_model = get_embeddings()\n",
    "        vector_store = Chroma(\n",
    "            persist_directory=PERSIST_DIR,\n",
    "            embedding_function=embedding_model,\n",
    "            collection_name=COLLECTION_NAME\n",
    "        )\n",
    "        return vector_store\n",
    "    except Exception as e:\n",
    "        print(f\"❌ 벡터 스토어 로드 실패: {str(e)}\")\n",
    "        return None"
   ]
  },
  {
   "cell_type": "markdown",
   "metadata": {},
   "source": [
    "## 4. 저장된 문서 확인\n",
    "\n",
    "벡터 스토어에 저장된 모든 문서를 조회하고 출력합니다:\n",
    "- 최대 100개 문서 조회\n",
    "- 각 문서의 내용을 깔끔하게 출력\n",
    "- 구분선으로 문서 구분"
   ]
  },
  {
   "cell_type": "code",
   "execution_count": null,
   "metadata": {},
   "source": [
    "# 벡터 스토어 로드\n",
    "vector_store = load_vector_store()\n",
    "\n",
    "if vector_store:\n",
    "    # 저장된 모든 문서 가져오기 (최대 100개)\n",
    "    results = vector_store.similarity_search(\"\", k=100)\n",
    "    \n",
    "    print(f\"📚 총 {len(results)}개의 문서가 저장되어 있습니다.\\n\")\n",
    "    \n",
    "    # 각 문서 내용 출력\n",
    "    for i, doc in enumerate(results, 1):\n",
    "        print(f\"문서 {i}:\")\n",
    "        print(f\"{doc.page_content}\\n\")\n",
    "        print(\"-\" * 50 + \"\\n\")"
   ]
  }
 ],
 "metadata": {
  "language_info": {
   "name": "python"
  }
 },
 "nbformat": 4,
 "nbformat_minor": 2
}
